{
  "nbformat": 4,
  "nbformat_minor": 0,
  "metadata": {
    "colab": {
      "name": "FourthAssignment_3.ipynb",
      "version": "0.3.2",
      "provenance": [],
      "collapsed_sections": []
    },
    "kernelspec": {
      "name": "python3",
      "display_name": "Python 3"
    },
    "accelerator": "GPU"
  },
  "cells": [
    {
      "cell_type": "markdown",
      "metadata": {
        "id": "DaA1YSm-KwFq",
        "colab_type": "text"
      },
      "source": [
        "\n",
        "#First Vanilla Network \n"
      ]
    },
    {
      "cell_type": "code",
      "metadata": {
        "id": "i3DOHGwmG7B5",
        "colab_type": "code",
        "colab": {
          "base_uri": "https://localhost:8080/",
          "height": 34
        },
        "outputId": "7f5ec3c5-a9ea-40b5-adbf-c6a67a29ba1a"
      },
      "source": [
        "#loading libraries\n",
        "# https://keras.io/\n",
        "!pip install -q keras\n",
        "import keras"
      ],
      "execution_count": 1,
      "outputs": [
        {
          "output_type": "stream",
          "text": [
            "Using TensorFlow backend.\n"
          ],
          "name": "stderr"
        }
      ]
    },
    {
      "cell_type": "code",
      "metadata": {
        "id": "I-U06dfxHTrs",
        "colab_type": "code",
        "colab": {}
      },
      "source": [
        "#loading libraries\n",
        "import numpy as np\n",
        "\n",
        "from keras.models import Sequential\n",
        "from keras.layers import Dense, Dropout, Activation, Flatten, Add\n",
        "from keras.layers import Convolution2D, MaxPooling2D\n",
        "from keras.utils import np_utils\n",
        "\n",
        "from keras.datasets import mnist"
      ],
      "execution_count": 0,
      "outputs": []
    },
    {
      "cell_type": "code",
      "metadata": {
        "id": "9-EH7JNRHUn6",
        "colab_type": "code",
        "outputId": "b46d83b0-7e90-407d-8c9a-1672e4b4b2b2",
        "colab": {
          "base_uri": "https://localhost:8080/",
          "height": 51
        }
      },
      "source": [
        "#loading data\n",
        "(X_train, y_train), (X_test, y_test) = mnist.load_data()"
      ],
      "execution_count": 3,
      "outputs": [
        {
          "output_type": "stream",
          "text": [
            "Downloading data from https://s3.amazonaws.com/img-datasets/mnist.npz\n",
            "11493376/11490434 [==============================] - 0s 0us/step\n"
          ],
          "name": "stdout"
        }
      ]
    },
    {
      "cell_type": "code",
      "metadata": {
        "id": "v68lpL6vHWYA",
        "colab_type": "code",
        "outputId": "fb349fcc-2583-4ec4-e3c5-a00af46c18a0",
        "colab": {
          "base_uri": "https://localhost:8080/",
          "height": 303
        }
      },
      "source": [
        "#plotting random image\n",
        "print (X_train.shape)\n",
        "from matplotlib import pyplot as plt\n",
        "%matplotlib inline\n",
        "plt.imshow(X_train[0])"
      ],
      "execution_count": 4,
      "outputs": [
        {
          "output_type": "stream",
          "text": [
            "(60000, 28, 28)\n"
          ],
          "name": "stdout"
        },
        {
          "output_type": "execute_result",
          "data": {
            "text/plain": [
              "<matplotlib.image.AxesImage at 0x7f63211ae5f8>"
            ]
          },
          "metadata": {
            "tags": []
          },
          "execution_count": 4
        },
        {
          "output_type": "display_data",
          "data": {
            "image/png": "[encoded data removed]",
            "text/plain": [
              "<Figure size 432x288 with 1 Axes>"
            ]
          },
          "metadata": {
            "tags": []
          }
        }
      ]
    },
    {
      "cell_type": "code",
      "metadata": {
        "id": "F7_eFpoaHYMk",
        "colab_type": "code",
        "colab": {}
      },
      "source": [
        "#resizing the images to 28x28x1\n",
        "X_train = X_train.reshape(X_train.shape[0], 28, 28,1)\n",
        "X_test = X_test.reshape(X_test.shape[0], 28, 28,1)"
      ],
      "execution_count": 0,
      "outputs": []
    },
    {
      "cell_type": "code",
      "metadata": {
        "id": "ewYbp6E7HbXG",
        "colab_type": "code",
        "colab": {}
      },
      "source": [
        "#normalizing  the pixles\n",
        "X_train = X_train.astype('float32')\n",
        "X_test = X_test.astype('float32')\n",
        "X_train /= 255\n",
        "X_test /= 255"
      ],
      "execution_count": 0,
      "outputs": []
    },
    {
      "cell_type": "code",
      "metadata": {
        "id": "bJoUYpbbHcAk",
        "colab_type": "code",
        "outputId": "a607ea5e-c7ef-46b2-b77f-4f614b7519ce",
        "colab": {
          "base_uri": "https://localhost:8080/",
          "height": 34
        }
      },
      "source": [
        "y_train[:10]"
      ],
      "execution_count": 7,
      "outputs": [
        {
          "output_type": "execute_result",
          "data": {
            "text/plain": [
              "array([5, 0, 4, 1, 9, 2, 1, 3, 1, 4], dtype=uint8)"
            ]
          },
          "metadata": {
            "tags": []
          },
          "execution_count": 7
        }
      ]
    },
    {
      "cell_type": "code",
      "metadata": {
        "id": "W41jpSR-HeZr",
        "colab_type": "code",
        "colab": {}
      },
      "source": [
        "# Convert 1-dimensional class arrays to 10-dimensional class matrices\n",
        "Y_train = np_utils.to_categorical(y_train, 10)\n",
        "Y_test = np_utils.to_categorical(y_test, 10)"
      ],
      "execution_count": 0,
      "outputs": []
    },
    {
      "cell_type": "code",
      "metadata": {
        "colab_type": "code",
        "outputId": "d2f46f8b-0f34-4d43-ed7c-a5aa88632602",
        "id": "8k5gRST29J1a",
        "colab": {
          "base_uri": "https://localhost:8080/",
          "height": 224
        }
      },
      "source": [
        "from keras.layers import Activation,BatchNormalization\n",
        "model = Sequential()\n",
        "\n",
        " \n",
        "model.add(Convolution2D(8, 3, 3, activation='relu', input_shape=(28,28,1))) # 26  #3\n",
        "model.add(BatchNormalization())\n",
        "model.add(Dropout(0.1))\n",
        "model.add(Convolution2D(16, 3, 3, activation='relu')) # 24   #5\n",
        "model.add(BatchNormalization())\n",
        "model.add(Dropout(0.1))\n",
        "model.add(Convolution2D(32, 3, 3, activation='relu')) # 22   #7\n",
        "model.add(BatchNormalization())\n",
        "\n",
        "model.add(Dropout(0.1))\n",
        "\n",
        "model.add(Convolution2D(10, 1, 1, activation='relu')) # 22\n",
        "model.add(MaxPooling2D(pool_size=(2, 2))) # 11     ## 14\n",
        "\n",
        "model.add(Convolution2D(8, 3, 3, activation='relu')) # 9   #16\n",
        "model.add(BatchNormalization())\n",
        "model.add(Dropout(0.1))\n",
        "model.add(Convolution2D(16, 3, 3, activation='relu')) # 7 #18\n",
        "model.add(BatchNormalization())\n",
        "model.add(Dropout(0.1))\n",
        "model.add(Convolution2D(32, 3, 3, activation='relu')) # 5 #20\n",
        "model.add(BatchNormalization())\n",
        "model.add(Dropout(0.1))\n",
        "\n",
        "\n",
        "model.add(Convolution2D(10, 5)) # 1x10\n",
        "\n",
        "model.add(Flatten())\n",
        "model.add(Activation('softmax'))"
      ],
      "execution_count": 15,
      "outputs": [
        {
          "output_type": "stream",
          "text": [
            "/usr/local/lib/python3.6/dist-packages/ipykernel_launcher.py:5: UserWarning: Update your `Conv2D` call to the Keras 2 API: `Conv2D(8, (3, 3), activation=\"relu\", input_shape=(28, 28, 1...)`\n",
            "  \"\"\"\n",
            "/usr/local/lib/python3.6/dist-packages/ipykernel_launcher.py:8: UserWarning: Update your `Conv2D` call to the Keras 2 API: `Conv2D(16, (3, 3), activation=\"relu\")`\n",
            "  \n",
            "/usr/local/lib/python3.6/dist-packages/ipykernel_launcher.py:11: UserWarning: Update your `Conv2D` call to the Keras 2 API: `Conv2D(32, (3, 3), activation=\"relu\")`\n",
            "  # This is added back by InteractiveShellApp.init_path()\n",
            "/usr/local/lib/python3.6/dist-packages/ipykernel_launcher.py:16: UserWarning: Update your `Conv2D` call to the Keras 2 API: `Conv2D(10, (1, 1), activation=\"relu\")`\n",
            "  app.launch_new_instance()\n",
            "/usr/local/lib/python3.6/dist-packages/ipykernel_launcher.py:19: UserWarning: Update your `Conv2D` call to the Keras 2 API: `Conv2D(8, (3, 3), activation=\"relu\")`\n",
            "/usr/local/lib/python3.6/dist-packages/ipykernel_launcher.py:22: UserWarning: Update your `Conv2D` call to the Keras 2 API: `Conv2D(16, (3, 3), activation=\"relu\")`\n",
            "/usr/local/lib/python3.6/dist-packages/ipykernel_launcher.py:25: UserWarning: Update your `Conv2D` call to the Keras 2 API: `Conv2D(32, (3, 3), activation=\"relu\")`\n"
          ],
          "name": "stderr"
        }
      ]
    },
    {
      "cell_type": "code",
      "metadata": {
        "id": "Xte6tuItHko1",
        "colab_type": "code",
        "outputId": "dc7f120e-dcd2-4e61-dc36-0d73a8cf74e6",
        "colab": {
          "base_uri": "https://localhost:8080/",
          "height": 918
        }
      },
      "source": [
        "model.summary()"
      ],
      "execution_count": 16,
      "outputs": [
        {
          "output_type": "stream",
          "text": [
            "_________________________________________________________________\n",
            "Layer (type)                 Output Shape              Param #   \n",
            "=================================================================\n",
            "conv2d_17 (Conv2D)           (None, 26, 26, 8)         80        \n",
            "_________________________________________________________________\n",
            "batch_normalization_13 (Batc (None, 26, 26, 8)         32        \n",
            "_________________________________________________________________\n",
            "dropout_9 (Dropout)          (None, 26, 26, 8)         0         \n",
            "_________________________________________________________________\n",
            "conv2d_18 (Conv2D)           (None, 24, 24, 16)        1168      \n",
            "_________________________________________________________________\n",
            "batch_normalization_14 (Batc (None, 24, 24, 16)        64        \n",
            "_________________________________________________________________\n",
            "dropout_10 (Dropout)         (None, 24, 24, 16)        0         \n",
            "_________________________________________________________________\n",
            "conv2d_19 (Conv2D)           (None, 22, 22, 32)        4640      \n",
            "_________________________________________________________________\n",
            "batch_normalization_15 (Batc (None, 22, 22, 32)        128       \n",
            "_________________________________________________________________\n",
            "dropout_11 (Dropout)         (None, 22, 22, 32)        0         \n",
            "_________________________________________________________________\n",
            "conv2d_20 (Conv2D)           (None, 22, 22, 10)        330       \n",
            "_________________________________________________________________\n",
            "max_pooling2d_3 (MaxPooling2 (None, 11, 11, 10)        0         \n",
            "_________________________________________________________________\n",
            "conv2d_21 (Conv2D)           (None, 9, 9, 8)           728       \n",
            "_________________________________________________________________\n",
            "batch_normalization_16 (Batc (None, 9, 9, 8)           32        \n",
            "_________________________________________________________________\n",
            "dropout_12 (Dropout)         (None, 9, 9, 8)           0         \n",
            "_________________________________________________________________\n",
            "conv2d_22 (Conv2D)           (None, 7, 7, 16)          1168      \n",
            "_________________________________________________________________\n",
            "batch_normalization_17 (Batc (None, 7, 7, 16)          64        \n",
            "_________________________________________________________________\n",
            "dropout_13 (Dropout)         (None, 7, 7, 16)          0         \n",
            "_________________________________________________________________\n",
            "conv2d_23 (Conv2D)           (None, 5, 5, 32)          4640      \n",
            "_________________________________________________________________\n",
            "batch_normalization_18 (Batc (None, 5, 5, 32)          128       \n",
            "_________________________________________________________________\n",
            "dropout_14 (Dropout)         (None, 5, 5, 32)          0         \n",
            "_________________________________________________________________\n",
            "conv2d_24 (Conv2D)           (None, 1, 1, 10)          8010      \n",
            "_________________________________________________________________\n",
            "flatten_3 (Flatten)          (None, 10)                0         \n",
            "_________________________________________________________________\n",
            "activation_3 (Activation)    (None, 10)                0         \n",
            "=================================================================\n",
            "Total params: 21,212\n",
            "Trainable params: 20,988\n",
            "Non-trainable params: 224\n",
            "_________________________________________________________________\n"
          ],
          "name": "stdout"
        }
      ]
    },
    {
      "cell_type": "code",
      "metadata": {
        "id": "dBsWKRQ5HnPb",
        "colab_type": "code",
        "colab": {}
      },
      "source": [
        "#setting loss function and optimizers , compiling the model\n",
        "model.compile(loss='categorical_crossentropy',optimizer='adam',\n",
        "             metrics=['accuracy'])"
      ],
      "execution_count": 0,
      "outputs": []
    },
    {
      "cell_type": "code",
      "metadata": {
        "id": "5gF_UjptHqoI",
        "colab_type": "code",
        "outputId": "d4ff4982-7907-4284-aa5c-5f968ee066c8",
        "colab": {
          "base_uri": "https://localhost:8080/",
          "height": 765
        }
      },
      "source": [
        "#fitting the model over train set and also checking the accuracy simultanously\n",
        "model.fit(X_train, Y_train,validation_data=(X_test, Y_test), batch_size=64, nb_epoch=20, verbose=1)"
      ],
      "execution_count": 18,
      "outputs": [
        {
          "output_type": "stream",
          "text": [
            "/usr/local/lib/python3.6/dist-packages/ipykernel_launcher.py:1: UserWarning: The `nb_epoch` argument in `fit` has been renamed `epochs`.\n",
            "  \"\"\"Entry point for launching an IPython kernel.\n"
          ],
          "name": "stderr"
        },
        {
          "output_type": "stream",
          "text": [
            "Train on 60000 samples, validate on 10000 samples\n",
            "Epoch 1/20\n",
            "60000/60000 [==============================] - 14s 226us/step - loss: 0.2529 - acc: 0.9198 - val_loss: 0.0562 - val_acc: 0.9829\n",
            "Epoch 2/20\n",
            "60000/60000 [==============================] - 12s 199us/step - loss: 0.0674 - acc: 0.9794 - val_loss: 0.0457 - val_acc: 0.9848\n",
            "Epoch 3/20\n",
            "60000/60000 [==============================] - 13s 214us/step - loss: 0.0520 - acc: 0.9841 - val_loss: 0.0300 - val_acc: 0.9911\n",
            "Epoch 4/20\n",
            "60000/60000 [==============================] - 12s 201us/step - loss: 0.0450 - acc: 0.9857 - val_loss: 0.0312 - val_acc: 0.9894\n",
            "Epoch 5/20\n",
            "60000/60000 [==============================] - 12s 200us/step - loss: 0.0392 - acc: 0.9876 - val_loss: 0.0337 - val_acc: 0.9895\n",
            "Epoch 6/20\n",
            "60000/60000 [==============================] - 12s 198us/step - loss: 0.0353 - acc: 0.9890 - val_loss: 0.0296 - val_acc: 0.9907\n",
            "Epoch 7/20\n",
            "60000/60000 [==============================] - 12s 200us/step - loss: 0.0311 - acc: 0.9896 - val_loss: 0.0400 - val_acc: 0.9880\n",
            "Epoch 8/20\n",
            "60000/60000 [==============================] - 12s 202us/step - loss: 0.0325 - acc: 0.9901 - val_loss: 0.0266 - val_acc: 0.9926\n",
            "Epoch 9/20\n",
            "60000/60000 [==============================] - 12s 201us/step - loss: 0.0288 - acc: 0.9912 - val_loss: 0.0274 - val_acc: 0.9909\n",
            "Epoch 10/20\n",
            "60000/60000 [==============================] - 13s 215us/step - loss: 0.0266 - acc: 0.9912 - val_loss: 0.0294 - val_acc: 0.9915\n",
            "Epoch 11/20\n",
            "60000/60000 [==============================] - 12s 200us/step - loss: 0.0256 - acc: 0.9917 - val_loss: 0.0253 - val_acc: 0.9931\n",
            "Epoch 12/20\n",
            "60000/60000 [==============================] - 12s 201us/step - loss: 0.0241 - acc: 0.9924 - val_loss: 0.0264 - val_acc: 0.9918\n",
            "Epoch 13/20\n",
            "60000/60000 [==============================] - 12s 201us/step - loss: 0.0241 - acc: 0.9926 - val_loss: 0.0308 - val_acc: 0.9915\n",
            "Epoch 14/20\n",
            "60000/60000 [==============================] - 12s 201us/step - loss: 0.0214 - acc: 0.9931 - val_loss: 0.0240 - val_acc: 0.9926\n",
            "Epoch 15/20\n",
            "60000/60000 [==============================] - 12s 202us/step - loss: 0.0210 - acc: 0.9931 - val_loss: 0.0203 - val_acc: 0.9940\n",
            "Epoch 16/20\n",
            "60000/60000 [==============================] - 13s 211us/step - loss: 0.0201 - acc: 0.9935 - val_loss: 0.0266 - val_acc: 0.9930\n",
            "Epoch 17/20\n",
            "60000/60000 [==============================] - 12s 207us/step - loss: 0.0208 - acc: 0.9926 - val_loss: 0.0248 - val_acc: 0.9937\n",
            "Epoch 18/20\n",
            "60000/60000 [==============================] - 12s 202us/step - loss: 0.0186 - acc: 0.9936 - val_loss: 0.0264 - val_acc: 0.9917\n",
            "Epoch 19/20\n",
            "60000/60000 [==============================] - 12s 200us/step - loss: 0.0182 - acc: 0.9939 - val_loss: 0.0221 - val_acc: 0.9935\n",
            "Epoch 20/20\n",
            "60000/60000 [==============================] - 13s 210us/step - loss: 0.0172 - acc: 0.9941 - val_loss: 0.0224 - val_acc: 0.9940\n"
          ],
          "name": "stdout"
        },
        {
          "output_type": "execute_result",
          "data": {
            "text/plain": [
              "<keras.callbacks.History at 0x7f62d9b6b8d0>"
            ]
          },
          "metadata": {
            "tags": []
          },
          "execution_count": 18
        }
      ]
    },
    {
      "cell_type": "code",
      "metadata": {
        "id": "8U5fYJ8cHsNa",
        "colab_type": "code",
        "outputId": "43302d4e-6ad4-437f-dc23-8301009afcfc",
        "colab": {
          "base_uri": "https://localhost:8080/",
          "height": 34
        }
      },
      "source": [
        "score = model.evaluate(X_test, Y_test, verbose=0)\n",
        "print(score)"
      ],
      "execution_count": 94,
      "outputs": [
        {
          "output_type": "stream",
          "text": [
            "[0.02944346641272232, 0.9909]\n"
          ],
          "name": "stdout"
        }
      ]
    },
    {
      "cell_type": "code",
      "metadata": {
        "id": "DhOy52A0KQDh",
        "colab_type": "code",
        "colab": {}
      },
      "source": [
        ""
      ],
      "execution_count": 0,
      "outputs": []
    }
  ]
}