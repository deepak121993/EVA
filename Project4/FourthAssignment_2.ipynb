{
  "nbformat": 4,
  "nbformat_minor": 0,
  "metadata": {
    "colab": {
      "name": "FourthAssignment_2.ipynb",
      "version": "0.3.2",
      "provenance": [],
      "collapsed_sections": []
    },
    "kernelspec": {
      "name": "python3",
      "display_name": "Python 3"
    },
    "accelerator": "GPU"
  },
  "cells": [
    {
      "cell_type": "markdown",
      "metadata": {
        "id": "DaA1YSm-KwFq",
        "colab_type": "text"
      },
      "source": [
        "\n",
        "#Third Model\n",
        "\n",
        "#changes\n",
        "\n",
        "1-->Added 1x1 kernels\n",
        "\n",
        "2-->Added max pooling to reduce number of params\n",
        "\n",
        "\n"
      ]
    },
    {
      "cell_type": "code",
      "metadata": {
        "id": "i3DOHGwmG7B5",
        "colab_type": "code",
        "outputId": "d4bbd164-fdb4-420b-d3e2-86d880b3dfe9",
        "colab": {
          "base_uri": "https://localhost:8080/",
          "height": 34
        }
      },
      "source": [
        "#loading libraries\n",
        "# https://keras.io/\n",
        "!pip install -q keras\n",
        "import keras"
      ],
      "execution_count": 1,
      "outputs": [
        {
          "output_type": "stream",
          "text": [
            "Using TensorFlow backend.\n"
          ],
          "name": "stderr"
        }
      ]
    },
    {
      "cell_type": "code",
      "metadata": {
        "id": "I-U06dfxHTrs",
        "colab_type": "code",
        "colab": {}
      },
      "source": [
        "#loading libraries\n",
        "import numpy as np\n",
        "\n",
        "from keras.models import Sequential\n",
        "from keras.layers import Dense, Dropout, Activation, Flatten, Add\n",
        "from keras.layers import Convolution2D, MaxPooling2D\n",
        "from keras.utils import np_utils\n",
        "\n",
        "from keras.datasets import mnist"
      ],
      "execution_count": 0,
      "outputs": []
    },
    {
      "cell_type": "code",
      "metadata": {
        "id": "9-EH7JNRHUn6",
        "colab_type": "code",
        "colab": {
          "base_uri": "https://localhost:8080/",
          "height": 51
        },
        "outputId": "b04f5c47-c064-4371-9573-0e255ce7e319"
      },
      "source": [
        "#loading data\n",
        "(X_train, y_train), (X_test, y_test) = mnist.load_data()"
      ],
      "execution_count": 3,
      "outputs": [
        {
          "output_type": "stream",
          "text": [
            "Downloading data from https://s3.amazonaws.com/img-datasets/mnist.npz\n",
            "11493376/11490434 [==============================] - 1s 0us/step\n"
          ],
          "name": "stdout"
        }
      ]
    },
    {
      "cell_type": "code",
      "metadata": {
        "id": "v68lpL6vHWYA",
        "colab_type": "code",
        "outputId": "0e24c4ed-a6d7-4a06-8bc6-c8c7e3176ea8",
        "colab": {
          "base_uri": "https://localhost:8080/",
          "height": 303
        }
      },
      "source": [
        "#plotting random image\n",
        "print (X_train.shape)\n",
        "from matplotlib import pyplot as plt\n",
        "%matplotlib inline\n",
        "plt.imshow(X_train[0])"
      ],
      "execution_count": 4,
      "outputs": [
        {
          "output_type": "stream",
          "text": [
            "(60000, 28, 28)\n"
          ],
          "name": "stdout"
        },
        {
          "output_type": "execute_result",
          "data": {
            "text/plain": [
              "<matplotlib.image.AxesImage at 0x7f040a3b2668>"
            ]
          },
          "metadata": {
            "tags": []
          },
          "execution_count": 4
        },
        {
          "output_type": "display_data",
          "data": {
            "image/png": "[encoded data removed]",
            "text/plain": [
              "<Figure size 432x288 with 1 Axes>"
            ]
          },
          "metadata": {
            "tags": []
          }
        }
      ]
    },
    {
      "cell_type": "code",
      "metadata": {
        "id": "F7_eFpoaHYMk",
        "colab_type": "code",
        "colab": {}
      },
      "source": [
        "#resizing the images to 28x28x1\n",
        "X_train = X_train.reshape(X_train.shape[0], 28, 28,1)\n",
        "X_test = X_test.reshape(X_test.shape[0], 28, 28,1)"
      ],
      "execution_count": 0,
      "outputs": []
    },
    {
      "cell_type": "code",
      "metadata": {
        "id": "ewYbp6E7HbXG",
        "colab_type": "code",
        "colab": {}
      },
      "source": [
        "#normalizing  the pixles\n",
        "X_train = X_train.astype('float32')\n",
        "X_test = X_test.astype('float32')\n",
        "X_train /= 255\n",
        "X_test /= 255"
      ],
      "execution_count": 0,
      "outputs": []
    },
    {
      "cell_type": "code",
      "metadata": {
        "id": "bJoUYpbbHcAk",
        "colab_type": "code",
        "outputId": "00041115-236a-404a-dfd4-dd452eb68bc7",
        "colab": {
          "base_uri": "https://localhost:8080/",
          "height": 34
        }
      },
      "source": [
        "y_train[:10]"
      ],
      "execution_count": 7,
      "outputs": [
        {
          "output_type": "execute_result",
          "data": {
            "text/plain": [
              "array([5, 0, 4, 1, 9, 2, 1, 3, 1, 4], dtype=uint8)"
            ]
          },
          "metadata": {
            "tags": []
          },
          "execution_count": 7
        }
      ]
    },
    {
      "cell_type": "code",
      "metadata": {
        "id": "W41jpSR-HeZr",
        "colab_type": "code",
        "colab": {}
      },
      "source": [
        "# Convert 1-dimensional class arrays to 10-dimensional class matrices\n",
        "Y_train = np_utils.to_categorical(y_train, 10)\n",
        "Y_test = np_utils.to_categorical(y_test, 10)"
      ],
      "execution_count": 0,
      "outputs": []
    },
    {
      "cell_type": "code",
      "metadata": {
        "id": "04c5IxR1Hf7m",
        "colab_type": "code",
        "outputId": "f2df2894-0f12-429d-ea0b-c9dc70802994",
        "colab": {
          "base_uri": "https://localhost:8080/",
          "height": 241
        }
      },
      "source": [
        "from keras.layers import Activation,BatchNormalization\n",
        "model = Sequential()\n",
        "\n",
        " \n",
        "model.add(Convolution2D(16, 3, 3, activation='relu', input_shape=(28,28,1))) # 26\n",
        "\n",
        "model.add(Convolution2D(32, 3, 3, activation='relu')) # 24\n",
        "\n",
        "\n",
        "model.add(Convolution2D(64, 3, 3, activation='relu')) # 22\n",
        "\n",
        "\n",
        "model.add(Convolution2D(10, 1, 1, activation='relu')) #\n",
        "model.add(MaxPooling2D(pool_size=(2, 2))) # 11\n",
        "\n",
        "model.add(Convolution2D(16, 3, 3, activation='relu')) # 9x9x10\n",
        "\n",
        "\n",
        "\n",
        "model.add(Convolution2D(32, 3, 3, activation='relu')) # 7\n",
        "\n",
        "\n",
        "model.add(Convolution2D(64, 3, 3, activation='relu')) # 7\n",
        "\n",
        "\n",
        "model.add(Convolution2D(10, 5))\n",
        "model.add(Flatten())\n",
        "model.add(Activation('softmax'))"
      ],
      "execution_count": 13,
      "outputs": [
        {
          "output_type": "stream",
          "text": [
            "/usr/local/lib/python3.6/dist-packages/ipykernel_launcher.py:5: UserWarning: Update your `Conv2D` call to the Keras 2 API: `Conv2D(16, (3, 3), activation=\"relu\", input_shape=(28, 28, 1...)`\n",
            "  \"\"\"\n",
            "/usr/local/lib/python3.6/dist-packages/ipykernel_launcher.py:7: UserWarning: Update your `Conv2D` call to the Keras 2 API: `Conv2D(32, (3, 3), activation=\"relu\")`\n",
            "  import sys\n",
            "/usr/local/lib/python3.6/dist-packages/ipykernel_launcher.py:10: UserWarning: Update your `Conv2D` call to the Keras 2 API: `Conv2D(64, (3, 3), activation=\"relu\")`\n",
            "  # Remove the CWD from sys.path while we load stuff.\n",
            "/usr/local/lib/python3.6/dist-packages/ipykernel_launcher.py:13: UserWarning: Update your `Conv2D` call to the Keras 2 API: `Conv2D(10, (1, 1), activation=\"relu\")`\n",
            "  del sys.path[0]\n",
            "/usr/local/lib/python3.6/dist-packages/ipykernel_launcher.py:16: UserWarning: Update your `Conv2D` call to the Keras 2 API: `Conv2D(16, (3, 3), activation=\"relu\")`\n",
            "  app.launch_new_instance()\n",
            "/usr/local/lib/python3.6/dist-packages/ipykernel_launcher.py:20: UserWarning: Update your `Conv2D` call to the Keras 2 API: `Conv2D(32, (3, 3), activation=\"relu\")`\n",
            "/usr/local/lib/python3.6/dist-packages/ipykernel_launcher.py:23: UserWarning: Update your `Conv2D` call to the Keras 2 API: `Conv2D(64, (3, 3), activation=\"relu\")`\n"
          ],
          "name": "stderr"
        }
      ]
    },
    {
      "cell_type": "code",
      "metadata": {
        "id": "Xte6tuItHko1",
        "colab_type": "code",
        "outputId": "c7a1f406-1f23-47eb-9919-2fe5c5d2b117",
        "colab": {
          "base_uri": "https://localhost:8080/",
          "height": 510
        }
      },
      "source": [
        "model.summary()"
      ],
      "execution_count": 14,
      "outputs": [
        {
          "output_type": "stream",
          "text": [
            "_________________________________________________________________\n",
            "Layer (type)                 Output Shape              Param #   \n",
            "=================================================================\n",
            "conv2d_9 (Conv2D)            (None, 26, 26, 16)        160       \n",
            "_________________________________________________________________\n",
            "conv2d_10 (Conv2D)           (None, 24, 24, 32)        4640      \n",
            "_________________________________________________________________\n",
            "conv2d_11 (Conv2D)           (None, 22, 22, 64)        18496     \n",
            "_________________________________________________________________\n",
            "conv2d_12 (Conv2D)           (None, 22, 22, 10)        650       \n",
            "_________________________________________________________________\n",
            "max_pooling2d_2 (MaxPooling2 (None, 11, 11, 10)        0         \n",
            "_________________________________________________________________\n",
            "conv2d_13 (Conv2D)           (None, 9, 9, 16)          1456      \n",
            "_________________________________________________________________\n",
            "conv2d_14 (Conv2D)           (None, 7, 7, 32)          4640      \n",
            "_________________________________________________________________\n",
            "conv2d_15 (Conv2D)           (None, 5, 5, 64)          18496     \n",
            "_________________________________________________________________\n",
            "conv2d_16 (Conv2D)           (None, 1, 1, 10)          16010     \n",
            "_________________________________________________________________\n",
            "flatten_2 (Flatten)          (None, 10)                0         \n",
            "_________________________________________________________________\n",
            "activation_2 (Activation)    (None, 10)                0         \n",
            "=================================================================\n",
            "Total params: 64,548\n",
            "Trainable params: 64,548\n",
            "Non-trainable params: 0\n",
            "_________________________________________________________________\n"
          ],
          "name": "stdout"
        }
      ]
    },
    {
      "cell_type": "code",
      "metadata": {
        "id": "dBsWKRQ5HnPb",
        "colab_type": "code",
        "colab": {}
      },
      "source": [
        "#setting loss function and optimizers , compiling the model\n",
        "model.compile(loss='categorical_crossentropy',optimizer='adam',\n",
        "             metrics=['accuracy'])"
      ],
      "execution_count": 0,
      "outputs": []
    },
    {
      "cell_type": "code",
      "metadata": {
        "id": "5gF_UjptHqoI",
        "colab_type": "code",
        "outputId": "f474383c-b1d1-4c0b-a258-5ab0ca3517b7",
        "colab": {
          "base_uri": "https://localhost:8080/",
          "height": 765
        }
      },
      "source": [
        "#fitting the model over train set and also checking the accuracy simultanously\n",
        "model.fit(X_train, Y_train,validation_data=(X_test, Y_test), batch_size=128, nb_epoch=20, verbose=1)"
      ],
      "execution_count": 16,
      "outputs": [
        {
          "output_type": "stream",
          "text": [
            "/usr/local/lib/python3.6/dist-packages/ipykernel_launcher.py:1: UserWarning: The `nb_epoch` argument in `fit` has been renamed `epochs`.\n",
            "  \"\"\"Entry point for launching an IPython kernel.\n"
          ],
          "name": "stderr"
        },
        {
          "output_type": "stream",
          "text": [
            "Train on 60000 samples, validate on 10000 samples\n",
            "Epoch 1/20\n",
            "60000/60000 [==============================] - 11s 192us/step - loss: 0.2322 - acc: 0.9271 - val_loss: 0.0558 - val_acc: 0.9834\n",
            "Epoch 2/20\n",
            "60000/60000 [==============================] - 11s 178us/step - loss: 0.0569 - acc: 0.9826 - val_loss: 0.0343 - val_acc: 0.9888\n",
            "Epoch 3/20\n",
            "60000/60000 [==============================] - 11s 177us/step - loss: 0.0393 - acc: 0.9878 - val_loss: 0.0454 - val_acc: 0.9859\n",
            "Epoch 4/20\n",
            "60000/60000 [==============================] - 11s 178us/step - loss: 0.0327 - acc: 0.9902 - val_loss: 0.0280 - val_acc: 0.9913\n",
            "Epoch 5/20\n",
            "60000/60000 [==============================] - 11s 178us/step - loss: 0.0264 - acc: 0.9914 - val_loss: 0.0308 - val_acc: 0.9896\n",
            "Epoch 6/20\n",
            "60000/60000 [==============================] - 11s 177us/step - loss: 0.0218 - acc: 0.9930 - val_loss: 0.0339 - val_acc: 0.9889\n",
            "Epoch 7/20\n",
            "60000/60000 [==============================] - 11s 178us/step - loss: 0.0184 - acc: 0.9942 - val_loss: 0.0262 - val_acc: 0.9917\n",
            "Epoch 8/20\n",
            "60000/60000 [==============================] - 11s 177us/step - loss: 0.0162 - acc: 0.9947 - val_loss: 0.0364 - val_acc: 0.9898\n",
            "Epoch 9/20\n",
            "60000/60000 [==============================] - 11s 178us/step - loss: 0.0152 - acc: 0.9952 - val_loss: 0.0315 - val_acc: 0.9912\n",
            "Epoch 10/20\n",
            "60000/60000 [==============================] - 11s 178us/step - loss: 0.0124 - acc: 0.9959 - val_loss: 0.0292 - val_acc: 0.9918\n",
            "Epoch 11/20\n",
            "60000/60000 [==============================] - 11s 178us/step - loss: 0.0129 - acc: 0.9959 - val_loss: 0.0487 - val_acc: 0.9864\n",
            "Epoch 12/20\n",
            "60000/60000 [==============================] - 11s 177us/step - loss: 0.0113 - acc: 0.9962 - val_loss: 0.0288 - val_acc: 0.9899\n",
            "Epoch 13/20\n",
            "60000/60000 [==============================] - 11s 178us/step - loss: 0.0118 - acc: 0.9961 - val_loss: 0.0349 - val_acc: 0.9912\n",
            "Epoch 14/20\n",
            "60000/60000 [==============================] - 11s 178us/step - loss: 0.0087 - acc: 0.9971 - val_loss: 0.0335 - val_acc: 0.9903\n",
            "Epoch 15/20\n",
            "60000/60000 [==============================] - 11s 177us/step - loss: 0.0072 - acc: 0.9976 - val_loss: 0.0374 - val_acc: 0.9907\n",
            "Epoch 16/20\n",
            "60000/60000 [==============================] - 11s 178us/step - loss: 0.0082 - acc: 0.9976 - val_loss: 0.0271 - val_acc: 0.9923\n",
            "Epoch 17/20\n",
            "60000/60000 [==============================] - 11s 177us/step - loss: 0.0072 - acc: 0.9977 - val_loss: 0.0370 - val_acc: 0.9910\n",
            "Epoch 18/20\n",
            "60000/60000 [==============================] - 11s 177us/step - loss: 0.0064 - acc: 0.9979 - val_loss: 0.0494 - val_acc: 0.9893\n",
            "Epoch 19/20\n",
            "60000/60000 [==============================] - 11s 178us/step - loss: 0.0064 - acc: 0.9981 - val_loss: 0.0381 - val_acc: 0.9909\n",
            "Epoch 20/20\n",
            "60000/60000 [==============================] - 11s 176us/step - loss: 0.0072 - acc: 0.9976 - val_loss: 0.0323 - val_acc: 0.9924\n"
          ],
          "name": "stdout"
        },
        {
          "output_type": "execute_result",
          "data": {
            "text/plain": [
              "<keras.callbacks.History at 0x7f0400330198>"
            ]
          },
          "metadata": {
            "tags": []
          },
          "execution_count": 16
        }
      ]
    },
    {
      "cell_type": "code",
      "metadata": {
        "id": "8U5fYJ8cHsNa",
        "colab_type": "code",
        "outputId": "6f2edef1-3542-487b-921c-a37401a06490",
        "colab": {
          "base_uri": "https://localhost:8080/",
          "height": 34
        }
      },
      "source": [
        "score = model.evaluate(X_test, Y_test, verbose=0)\n",
        "print(score)"
      ],
      "execution_count": 17,
      "outputs": [
        {
          "output_type": "stream",
          "text": [
            "[0.03232097475903297, 0.9924]\n"
          ],
          "name": "stdout"
        }
      ]
    },
    {
      "cell_type": "code",
      "metadata": {
        "id": "DhOy52A0KQDh",
        "colab_type": "code",
        "colab": {}
      },
      "source": [
        ""
      ],
      "execution_count": 0,
      "outputs": []
    }
  ]
}