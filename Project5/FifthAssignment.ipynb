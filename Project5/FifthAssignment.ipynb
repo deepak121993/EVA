{
  "nbformat": 4,
  "nbformat_minor": 0,
  "metadata": {
    "colab": {
      "name": "FifthAssignment.ipynb",
      "version": "0.3.2",
      "provenance": [],
      "collapsed_sections": [],
      "toc_visible": true
    },
    "kernelspec": {
      "name": "python3",
      "display_name": "Python 3"
    },
    "accelerator": "GPU"
  },
  "cells": [
    {
      "cell_type": "markdown",
      "metadata": {
        "id": "DaA1YSm-KwFq",
        "colab_type": "text"
      },
      "source": [
        "#Sixth Assignment\n"
      ]
    },
    {
      "cell_type": "code",
      "metadata": {
        "id": "i3DOHGwmG7B5",
        "colab_type": "code",
        "colab": {
          "base_uri": "https://localhost:8080/",
          "height": 34
        },
        "outputId": "df491120-110e-4b45-bf3f-7077cd1b630a"
      },
      "source": [
        "#loading libraries\n",
        "# https://keras.io/\n",
        "!pip install -q keras\n",
        "import keras"
      ],
      "execution_count": 1,
      "outputs": [
        {
          "output_type": "stream",
          "text": [
            "Using TensorFlow backend.\n"
          ],
          "name": "stderr"
        }
      ]
    },
    {
      "cell_type": "code",
      "metadata": {
        "id": "I-U06dfxHTrs",
        "colab_type": "code",
        "colab": {}
      },
      "source": [
        "#loading libraries\n",
        "import numpy as np\n",
        "\n",
        "from keras.models import Sequential\n",
        "from keras.layers import Dense, Dropout, Activation, Flatten, Add\n",
        "from keras.layers import Convolution2D, MaxPooling2D\n",
        "from keras.utils import np_utils\n",
        "\n",
        "from keras.datasets import mnist"
      ],
      "execution_count": 0,
      "outputs": []
    },
    {
      "cell_type": "code",
      "metadata": {
        "id": "9-EH7JNRHUn6",
        "colab_type": "code",
        "colab": {
          "base_uri": "https://localhost:8080/",
          "height": 51
        },
        "outputId": "6b4b5ac1-8386-4076-cd4c-5a7d96c59945"
      },
      "source": [
        "#loading data\n",
        "(X_train, y_train), (X_test, y_test) = mnist.load_data()"
      ],
      "execution_count": 3,
      "outputs": [
        {
          "output_type": "stream",
          "text": [
            "Downloading data from https://s3.amazonaws.com/img-datasets/mnist.npz\n",
            "11493376/11490434 [==============================] - 2s 0us/step\n"
          ],
          "name": "stdout"
        }
      ]
    },
    {
      "cell_type": "code",
      "metadata": {
        "id": "v68lpL6vHWYA",
        "colab_type": "code",
        "outputId": "18924eeb-4ac0-4eae-d24f-ef120083d53e",
        "colab": {
          "base_uri": "https://localhost:8080/",
          "height": 303
        }
      },
      "source": [
        "#plotting random image\n",
        "print (X_train.shape)\n",
        "from matplotlib import pyplot as plt\n",
        "%matplotlib inline\n",
        "plt.imshow(X_train[0])"
      ],
      "execution_count": 4,
      "outputs": [
        {
          "output_type": "stream",
          "text": [
            "(60000, 28, 28)\n"
          ],
          "name": "stdout"
        },
        {
          "output_type": "execute_result",
          "data": {
            "text/plain": [
              "<matplotlib.image.AxesImage at 0x7f74393ed160>"
            ]
          },
          "metadata": {
            "tags": []
          },
          "execution_count": 4
        },
        {
          "output_type": "display_data",
          "data": {
            "image/png": "[encoded data removed]",
            "text/plain": [
              "<Figure size 432x288 with 1 Axes>"
            ]
          },
          "metadata": {
            "tags": []
          }
        }
      ]
    },
    {
      "cell_type": "code",
      "metadata": {
        "id": "F7_eFpoaHYMk",
        "colab_type": "code",
        "colab": {}
      },
      "source": [
        "#resizing the images to 28x28x1\n",
        "X_train = X_train.reshape(X_train.shape[0], 28, 28,1)\n",
        "X_test = X_test.reshape(X_test.shape[0], 28, 28,1)"
      ],
      "execution_count": 0,
      "outputs": []
    },
    {
      "cell_type": "code",
      "metadata": {
        "id": "wwnjOxvH9DrT",
        "colab_type": "code",
        "colab": {}
      },
      "source": [
        ""
      ],
      "execution_count": 0,
      "outputs": []
    },
    {
      "cell_type": "code",
      "metadata": {
        "id": "ewYbp6E7HbXG",
        "colab_type": "code",
        "outputId": "a4c63c9d-67e7-4584-eb5b-dcbb1de9f8c9",
        "colab": {
          "base_uri": "https://localhost:8080/",
          "height": 34
        }
      },
      "source": [
        "#normalizing  the pixles\n",
        "X_train = X_train.astype('float32')\n",
        "X_test = X_test.astype('float32')\n",
        "X_train /= 255\n",
        "X_test /= 255\n",
        "\n",
        "y_train[:10]"
      ],
      "execution_count": 6,
      "outputs": [
        {
          "output_type": "execute_result",
          "data": {
            "text/plain": [
              "array([5, 0, 4, 1, 9, 2, 1, 3, 1, 4], dtype=uint8)"
            ]
          },
          "metadata": {
            "tags": []
          },
          "execution_count": 6
        }
      ]
    },
    {
      "cell_type": "code",
      "metadata": {
        "id": "pWe7qEAr9cAL",
        "colab_type": "code",
        "outputId": "badada29-350d-4938-c2a4-39245e17da4a",
        "colab": {
          "base_uri": "https://localhost:8080/",
          "height": 34
        }
      },
      "source": [
        "# report pixel means and standard deviations\n",
        "print('Statistics train=%.3f (%.3f), test=%.3f (%.3f)' % (X_train.mean(), X_train.std(), X_test.mean(), X_test.std()))"
      ],
      "execution_count": 7,
      "outputs": [
        {
          "output_type": "stream",
          "text": [
            "Statistics train=0.131 (0.308), test=0.133 (0.310)\n"
          ],
          "name": "stdout"
        }
      ]
    },
    {
      "cell_type": "code",
      "metadata": {
        "id": "bJoUYpbbHcAk",
        "colab_type": "code",
        "colab": {}
      },
      "source": [
        "from keras.preprocessing.image import ImageDataGenerator\n",
        "datagen = ImageDataGenerator(featurewise_center=True, featurewise_std_normalization=True)\n",
        "datagen.fit(X_train)"
      ],
      "execution_count": 0,
      "outputs": []
    },
    {
      "cell_type": "code",
      "metadata": {
        "id": "W41jpSR-HeZr",
        "colab_type": "code",
        "colab": {}
      },
      "source": [
        "# Convert 1-dimensional class arrays to 10-dimensional class matrices\n",
        "Y_train = np_utils.to_categorical(y_train, 10)\n",
        "Y_test = np_utils.to_categorical(y_test, 10)"
      ],
      "execution_count": 0,
      "outputs": []
    },
    {
      "cell_type": "code",
      "metadata": {
        "colab_type": "code",
        "outputId": "5dfb63ae-123c-410f-b32f-882f19bb09dd",
        "id": "8k5gRST29J1a",
        "colab": {
          "base_uri": "https://localhost:8080/",
          "height": 190
        }
      },
      "source": [
        "from keras.layers import Activation,BatchNormalization\n",
        "model = Sequential()\n",
        "\n",
        " \n",
        "model.add(Convolution2D(8, 3, 3, input_shape=(28,28,1),name=\"conv1\")) # 26  #3\n",
        "#model.add(BatchNormalization())\n",
        "model.add(Activation( 'relu'))\n",
        "model.add(Dropout(0.1))\n",
        "\n",
        "model.add(Convolution2D(16, 3, 3,name=\"conv2\")) # 24   #5\n",
        "model.add(BatchNormalization())\n",
        "model.add(Activation( 'relu'))\n",
        "model.add(Dropout(0.1))\n",
        "\n",
        "\n",
        "model.add(Convolution2D(16, 3, 3,name=\"conv3\"))  \n",
        "model.add(BatchNormalization())\n",
        "model.add(Activation( 'relu'))\n",
        "\n",
        "model.add(Dropout(0.1))\n",
        "\n",
        "#model.add(Convolution2D(10, 1, 1, activation='relu')) # 22\n",
        "model.add(MaxPooling2D(pool_size=(2, 2))) # 11     ## 14\n",
        "\n",
        "model.add(Convolution2D(8, 3, 3,name=\"conv4\")) # 9   #16\n",
        "model.add(BatchNormalization())\n",
        "model.add(Activation( 'relu'))\n",
        "model.add(Dropout(0.1))\n",
        " \n",
        "model.add(Convolution2D(16, 3, 3,name=\"conv5\")) # 7 #18\n",
        "model.add(BatchNormalization())\n",
        "model.add(Activation( 'relu'))         \n",
        "model.add(Dropout(0.1))\n",
        "\n",
        "model.add(Convolution2D(16, 3, 3,name=\"conv6\")) # 5 #20\n",
        "model.add(BatchNormalization())\n",
        "model.add(Activation( 'relu'))                        \n",
        "model.add(Dropout(0.1))\n",
        "#model.add(Convolution2D(10, 1, 1, activation='relu')) \n",
        "\n",
        "\n",
        "model.add(Convolution2D(10, 5)) # 1x10\n",
        "\n",
        "model.add(Flatten())\n",
        "model.add(Activation('softmax'))"
      ],
      "execution_count": 67,
      "outputs": [
        {
          "output_type": "stream",
          "text": [
            "/usr/local/lib/python3.6/dist-packages/ipykernel_launcher.py:5: UserWarning: Update your `Conv2D` call to the Keras 2 API: `Conv2D(8, (3, 3), input_shape=(28, 28, 1..., name=\"conv1\")`\n",
            "  \"\"\"\n",
            "/usr/local/lib/python3.6/dist-packages/ipykernel_launcher.py:10: UserWarning: Update your `Conv2D` call to the Keras 2 API: `Conv2D(16, (3, 3), name=\"conv2\")`\n",
            "  # Remove the CWD from sys.path while we load stuff.\n",
            "/usr/local/lib/python3.6/dist-packages/ipykernel_launcher.py:16: UserWarning: Update your `Conv2D` call to the Keras 2 API: `Conv2D(16, (3, 3), name=\"conv3\")`\n",
            "  app.launch_new_instance()\n",
            "/usr/local/lib/python3.6/dist-packages/ipykernel_launcher.py:25: UserWarning: Update your `Conv2D` call to the Keras 2 API: `Conv2D(8, (3, 3), name=\"conv4\")`\n",
            "/usr/local/lib/python3.6/dist-packages/ipykernel_launcher.py:30: UserWarning: Update your `Conv2D` call to the Keras 2 API: `Conv2D(16, (3, 3), name=\"conv5\")`\n",
            "/usr/local/lib/python3.6/dist-packages/ipykernel_launcher.py:35: UserWarning: Update your `Conv2D` call to the Keras 2 API: `Conv2D(16, (3, 3), name=\"conv6\")`\n"
          ],
          "name": "stderr"
        }
      ]
    },
    {
      "cell_type": "code",
      "metadata": {
        "id": "Xte6tuItHko1",
        "colab_type": "code",
        "outputId": "845f48d4-37b9-49b2-8e66-8086326cb869",
        "colab": {
          "base_uri": "https://localhost:8080/",
          "height": 1054
        }
      },
      "source": [
        "model.summary()"
      ],
      "execution_count": 68,
      "outputs": [
        {
          "output_type": "stream",
          "text": [
            "_________________________________________________________________\n",
            "Layer (type)                 Output Shape              Param #   \n",
            "=================================================================\n",
            "conv1 (Conv2D)               (None, 26, 26, 8)         80        \n",
            "_________________________________________________________________\n",
            "activation_51 (Activation)   (None, 26, 26, 8)         0         \n",
            "_________________________________________________________________\n",
            "dropout_44 (Dropout)         (None, 26, 26, 8)         0         \n",
            "_________________________________________________________________\n",
            "conv2 (Conv2D)               (None, 24, 24, 16)        1168      \n",
            "_________________________________________________________________\n",
            "batch_normalization_36 (Batc (None, 24, 24, 16)        64        \n",
            "_________________________________________________________________\n",
            "activation_52 (Activation)   (None, 24, 24, 16)        0         \n",
            "_________________________________________________________________\n",
            "dropout_45 (Dropout)         (None, 24, 24, 16)        0         \n",
            "_________________________________________________________________\n",
            "conv3 (Conv2D)               (None, 22, 22, 16)        2320      \n",
            "_________________________________________________________________\n",
            "batch_normalization_37 (Batc (None, 22, 22, 16)        64        \n",
            "_________________________________________________________________\n",
            "activation_53 (Activation)   (None, 22, 22, 16)        0         \n",
            "_________________________________________________________________\n",
            "dropout_46 (Dropout)         (None, 22, 22, 16)        0         \n",
            "_________________________________________________________________\n",
            "max_pooling2d_8 (MaxPooling2 (None, 11, 11, 16)        0         \n",
            "_________________________________________________________________\n",
            "conv4 (Conv2D)               (None, 9, 9, 8)           1160      \n",
            "_________________________________________________________________\n",
            "batch_normalization_38 (Batc (None, 9, 9, 8)           32        \n",
            "_________________________________________________________________\n",
            "activation_54 (Activation)   (None, 9, 9, 8)           0         \n",
            "_________________________________________________________________\n",
            "dropout_47 (Dropout)         (None, 9, 9, 8)           0         \n",
            "_________________________________________________________________\n",
            "conv5 (Conv2D)               (None, 7, 7, 16)          1168      \n",
            "_________________________________________________________________\n",
            "batch_normalization_39 (Batc (None, 7, 7, 16)          64        \n",
            "_________________________________________________________________\n",
            "activation_55 (Activation)   (None, 7, 7, 16)          0         \n",
            "_________________________________________________________________\n",
            "dropout_48 (Dropout)         (None, 7, 7, 16)          0         \n",
            "_________________________________________________________________\n",
            "conv6 (Conv2D)               (None, 5, 5, 16)          2320      \n",
            "_________________________________________________________________\n",
            "batch_normalization_40 (Batc (None, 5, 5, 16)          64        \n",
            "_________________________________________________________________\n",
            "activation_56 (Activation)   (None, 5, 5, 16)          0         \n",
            "_________________________________________________________________\n",
            "dropout_49 (Dropout)         (None, 5, 5, 16)          0         \n",
            "_________________________________________________________________\n",
            "conv2d_52 (Conv2D)           (None, 1, 1, 10)          4010      \n",
            "_________________________________________________________________\n",
            "flatten_8 (Flatten)          (None, 10)                0         \n",
            "_________________________________________________________________\n",
            "activation_57 (Activation)   (None, 10)                0         \n",
            "=================================================================\n",
            "Total params: 12,514\n",
            "Trainable params: 12,370\n",
            "Non-trainable params: 144\n",
            "_________________________________________________________________\n"
          ],
          "name": "stdout"
        }
      ]
    },
    {
      "cell_type": "markdown",
      "metadata": {
        "id": "XcJct2URPetm",
        "colab_type": "text"
      },
      "source": [
        "#Custom Loss Function"
      ]
    },
    {
      "cell_type": "code",
      "metadata": {
        "id": "SpdJEj34S2iQ",
        "colab_type": "code",
        "colab": {}
      },
      "source": [
        "def custom_loss(actual, predicted):\n",
        "  weights = model.get_weights()\n",
        "  sum_weights = 0\n",
        "  for i in range(len(weights)):\n",
        "    sum_weights +=  np.sum(np.sum(np.sum(np.square(weights[i]))))\n",
        "    \n",
        "  hyperparameter = 1e-3\n",
        "  l2_regularizer = hyperparameter*sum_weights/(2*128)\n",
        "  return keras.losses.categorical_crossentropy(actual, predicted) + l2_regularizer\n",
        "  \n",
        "  \n",
        "  \n",
        "  "
      ],
      "execution_count": 0,
      "outputs": []
    },
    {
      "cell_type": "markdown",
      "metadata": {
        "id": "LP3TrHksPaZP",
        "colab_type": "text"
      },
      "source": [
        ""
      ]
    },
    {
      "cell_type": "code",
      "metadata": {
        "id": "dBsWKRQ5HnPb",
        "colab_type": "code",
        "colab": {}
      },
      "source": [
        "from keras.optimizers import Adam\n",
        "from keras.callbacks import LearningRateScheduler\n",
        "\n",
        "from keras.callbacks import ModelCheckpoint\n",
        "\n",
        "def scheduler(epoch, lr):\n",
        "  return round(0.003 * 1/(1 + 0.319 * epoch), 10)\n",
        "\n",
        "model.compile(loss=custom_loss, optimizer=Adam(lr=0.003), metrics=['accuracy'])"
      ],
      "execution_count": 0,
      "outputs": []
    },
    {
      "cell_type": "code",
      "metadata": {
        "id": "XUdl0BASLH1T",
        "colab_type": "code",
        "outputId": "389132c7-95f6-4ed6-fe7d-eb16c2f4274a",
        "colab": {
          "base_uri": "https://localhost:8080/",
          "height": 34
        }
      },
      "source": [
        "from google.colab import drive\n",
        "drive.mount('/content/gdrive')"
      ],
      "execution_count": 86,
      "outputs": [
        {
          "output_type": "stream",
          "text": [
            "Mounted at /content/gdrive\n"
          ],
          "name": "stdout"
        }
      ]
    },
    {
      "cell_type": "code",
      "metadata": {
        "id": "JW3HAPwUQX5Q",
        "colab_type": "code",
        "colab": {
          "base_uri": "https://localhost:8080/",
          "height": 34
        },
        "outputId": "37128d7b-4a84-4485-83ae-516b59f07c36"
      },
      "source": [
        "print(len(model.get_weights()))"
      ],
      "execution_count": 75,
      "outputs": [
        {
          "output_type": "stream",
          "text": [
            "34\n"
          ],
          "name": "stdout"
        }
      ]
    },
    {
      "cell_type": "code",
      "metadata": {
        "id": "mjfvJ07Tal5j",
        "colab_type": "code",
        "colab": {}
      },
      "source": [
        "#for layers in model.layers:\n",
        "#  print(layers.get_weights())"
      ],
      "execution_count": 0,
      "outputs": []
    },
    {
      "cell_type": "markdown",
      "metadata": {
        "id": "3YaFioqFPlYU",
        "colab_type": "text"
      },
      "source": [
        "#Using Data generator for model fitting"
      ]
    },
    {
      "cell_type": "code",
      "metadata": {
        "id": "5gF_UjptHqoI",
        "colab_type": "code",
        "outputId": "c00d24b5-226f-486c-c969-d451b17b0024",
        "colab": {
          "base_uri": "https://localhost:8080/",
          "height": 544
        }
      },
      "source": [
        "#fitting the model over train set and also checking the accuracy simultanously\n",
        "# fits the model on batches with real-time data augmentation:\n",
        "\n",
        "filepath = \"/content/gdrive/My Drive/Deepak-{epoch:02d}-{val_acc:.2f}.hdf5\"\n",
        "\n",
        "checkpoint = ModelCheckpoint(filepath, monitor='val_acc', verbose=1, save_best_only=True, mode='max')\n",
        "lr = LearningRateScheduler(scheduler, verbose=1)\n",
        "\n",
        "callbacks_list = [checkpoint,lr]\n",
        "\n",
        "model.fit_generator(datagen.flow(X_train, Y_train, batch_size=128),\n",
        "                     epochs=5,steps_per_epoch=np.ceil(len(X_train) / 128),validation_data=(X_test, Y_test),validation_steps=np.ceil(len(X_test)/128),\n",
        "                    callbacks=[checkpoint,lr])\n",
        "\n",
        "\n",
        "#model.fit(X_train, Y_train, batch_size=64, epochs=20, verbose=1, validation_data=(X_test, Y_test), callbacks=[LearningRateScheduler(scheduler, verbose=1)])"
      ],
      "execution_count": 87,
      "outputs": [
        {
          "output_type": "stream",
          "text": [
            "Epoch 1/5\n",
            "\n",
            "Epoch 00001: LearningRateScheduler setting learning rate to 0.003.\n",
            "469/469 [==============================] - 12s 26ms/step - loss: 0.0371 - acc: 0.9898 - val_loss: 0.0698 - val_acc: 0.9790\n",
            "\n",
            "Epoch 00001: val_acc improved from -inf to 0.97900, saving model to /content/gdrive/My Drive/Deepak-01-0.98.hdf5\n",
            "Epoch 2/5\n",
            "\n",
            "Epoch 00002: LearningRateScheduler setting learning rate to 0.0022744503.\n",
            "469/469 [==============================] - 12s 26ms/step - loss: 0.0312 - acc: 0.9918 - val_loss: 0.1053 - val_acc: 0.9698\n",
            "\n",
            "Epoch 00002: val_acc did not improve from 0.97900\n",
            "Epoch 3/5\n",
            "\n",
            "Epoch 00003: LearningRateScheduler setting learning rate to 0.0018315018.\n",
            "469/469 [==============================] - 12s 26ms/step - loss: 0.0286 - acc: 0.9929 - val_loss: 0.0748 - val_acc: 0.9765\n",
            "\n",
            "Epoch 00003: val_acc did not improve from 0.97900\n",
            "Epoch 4/5\n",
            "\n",
            "Epoch 00004: LearningRateScheduler setting learning rate to 0.0015329586.\n",
            "469/469 [==============================] - 12s 26ms/step - loss: 0.0270 - acc: 0.9932 - val_loss: 0.0569 - val_acc: 0.9835\n",
            "\n",
            "Epoch 00004: val_acc improved from 0.97900 to 0.98350, saving model to /content/gdrive/My Drive/Deepak-04-0.98.hdf5\n",
            "Epoch 5/5\n",
            "\n",
            "Epoch 00005: LearningRateScheduler setting learning rate to 0.0013181019.\n",
            "469/469 [==============================] - 12s 26ms/step - loss: 0.0246 - acc: 0.9937 - val_loss: 0.0490 - val_acc: 0.9856\n",
            "\n",
            "Epoch 00005: val_acc improved from 0.98350 to 0.98560, saving model to /content/gdrive/My Drive/Deepak-05-0.99.hdf5\n"
          ],
          "name": "stdout"
        },
        {
          "output_type": "execute_result",
          "data": {
            "text/plain": [
              "<keras.callbacks.History at 0x7f7416211128>"
            ]
          },
          "metadata": {
            "tags": []
          },
          "execution_count": 87
        }
      ]
    },
    {
      "cell_type": "markdown",
      "metadata": {
        "id": "y5zduKVcDjy3",
        "colab_type": "text"
      },
      "source": [
        ""
      ]
    },
    {
      "cell_type": "code",
      "metadata": {
        "id": "8U5fYJ8cHsNa",
        "colab_type": "code",
        "colab": {}
      },
      "source": [
        "\n",
        "#score = model.evaluate(X_test, Y_test, verbose=0)\n",
        "y_pred = model.predict(X_test)\n",
        "mis_class = []\n",
        "for i in range(len(y_pred)):\n",
        "  \n",
        "  pred = np.argmax(y_pred[i])\n",
        "  orig_pred = np.argmax(Y_test[i])\n",
        "  if(pred != orig_pred):\n",
        "    mis_class.append(i)\n",
        "  \n",
        "  "
      ],
      "execution_count": 0,
      "outputs": []
    },
    {
      "cell_type": "markdown",
      "metadata": {
        "id": "ZiKqYmQ7PtRi",
        "colab_type": "text"
      },
      "source": [
        "#misclassified images"
      ]
    },
    {
      "cell_type": "code",
      "metadata": {
        "id": "DhOy52A0KQDh",
        "colab_type": "code",
        "colab": {
          "base_uri": "https://localhost:8080/",
          "height": 6742
        },
        "outputId": "1cf798a3-62fe-4bba-a5c4-f4343f348660"
      },
      "source": [
        "i=0\n",
        "import cv2\n",
        "import matplotlib.pyplot as plt\n",
        "from google.colab.patches import cv2_imshow\n",
        "for j in range(len(mis_class)):\n",
        "  img = cv2.resize(X_test[mis_class[j]],(28,28))\n",
        "  imgplot = plt.imshow(img)\n",
        "  print(\"original image \",y_test[mis_class[j]], \" predicted \",np.argmax(y_pred[mis_class[j]]))\n",
        "  plt.show()\n",
        "  i += 1\n",
        "  if(i==25):\n",
        "    break\n",
        "  "
      ],
      "execution_count": 45,
      "outputs": [
        {
          "output_type": "stream",
          "text": [
            "original image  5  predicted  8\n"
          ],
          "name": "stdout"
        },
        {
          "output_type": "display_data",
          "data": {
            "image/png": "[encoded data removed]",
            "text/plain": [
              "<Figure size 432x288 with 1 Axes>"
            ]
          },
          "metadata": {
            "tags": []
          }
        },
        {
          "output_type": "stream",
          "text": [
            "original image  5  predicted  8\n"
          ],
          "name": "stdout"
        },
        {
          "output_type": "display_data",
          "data": {
            "image/png": "[encoded data removed]",
            "text/plain": [
              "<Figure size 432x288 with 1 Axes>"
            ]
          },
          "metadata": {
            "tags": []
          }
        },
        {
          "output_type": "stream",
          "text": [
            "original image  3  predicted  8\n"
          ],
          "name": "stdout"
        },
        {
          "output_type": "display_data",
          "data": {
            "image/png": "[encoded data removed]",
            "text/plain": [
              "<Figure size 432x288 with 1 Axes>"
            ]
          },
          "metadata": {
            "tags": []
          }
        },
        {
          "output_type": "stream",
          "text": [
            "original image  5  predicted  8\n"
          ],
          "name": "stdout"
        },
        {
          "output_type": "display_data",
          "data": {
            "image/png": "[encoded data removed]",
            "text/plain": [
              "<Figure size 432x288 with 1 Axes>"
            ]
          },
          "metadata": {
            "tags": []
          }
        },
        {
          "output_type": "stream",
          "text": [
            "original image  2  predicted  4\n"
          ],
          "name": "stdout"
        },
        {
          "output_type": "display_data",
          "data": {
            "image/png": "[encoded data removed]",
            "text/plain": [
              "<Figure size 432x288 with 1 Axes>"
            ]
          },
          "metadata": {
            "tags": []
          }
        },
        {
          "output_type": "stream",
          "text": [
            "original image  5  predicted  8\n"
          ],
          "name": "stdout"
        },
        {
          "output_type": "display_data",
          "data": {
            "image/png": "[encoded data removed]",
            "text/plain": [
              "<Figure size 432x288 with 1 Axes>"
            ]
          },
          "metadata": {
            "tags": []
          }
        },
        {
          "output_type": "stream",
          "text": [
            "original image  1  predicted  7\n"
          ],
          "name": "stdout"
        },
        {
          "output_type": "display_data",
          "data": {
            "image/png": "[encoded data removed]",
            "text/plain": [
              "<Figure size 432x288 with 1 Axes>"
            ]
          },
          "metadata": {
            "tags": []
          }
        },
        {
          "output_type": "stream",
          "text": [
            "original image  5  predicted  8\n"
          ],
          "name": "stdout"
        },
        {
          "output_type": "display_data",
          "data": {
            "image/png": "[encoded data removed]",
            "text/plain": [
              "<Figure size 432x288 with 1 Axes>"
            ]
          },
          "metadata": {
            "tags": []
          }
        },
        {
          "output_type": "stream",
          "text": [
            "original image  5  predicted  8\n"
          ],
          "name": "stdout"
        },
        {
          "output_type": "display_data",
          "data": {
            "image/png": "[encoded data removed]",
            "text/plain": [
              "<Figure size 432x288 with 1 Axes>"
            ]
          },
          "metadata": {
            "tags": []
          }
        },
        {
          "output_type": "stream",
          "text": [
            "original image  5  predicted  9\n"
          ],
          "name": "stdout"
        },
        {
          "output_type": "display_data",
          "data": {
            "image/png": "[encoded data removed]",
            "text/plain": [
              "<Figure size 432x288 with 1 Axes>"
            ]
          },
          "metadata": {
            "tags": []
          }
        },
        {
          "output_type": "stream",
          "text": [
            "original image  9  predicted  4\n"
          ],
          "name": "stdout"
        },
        {
          "output_type": "display_data",
          "data": {
            "image/png": "[encoded data removed]",
            "text/plain": [
              "<Figure size 432x288 with 1 Axes>"
            ]
          },
          "metadata": {
            "tags": []
          }
        },
        {
          "output_type": "stream",
          "text": [
            "original image  5  predicted  8\n"
          ],
          "name": "stdout"
        },
        {
          "output_type": "display_data",
          "data": {
            "image/png": "[encoded data removed]",
            "text/plain": [
              "<Figure size 432x288 with 1 Axes>"
            ]
          },
          "metadata": {
            "tags": []
          }
        },
        {
          "output_type": "stream",
          "text": [
            "original image  5  predicted  8\n"
          ],
          "name": "stdout"
        },
        {
          "output_type": "display_data",
          "data": {
            "image/png": "[encoded data removed]",
            "text/plain": [
              "<Figure size 432x288 with 1 Axes>"
            ]
          },
          "metadata": {
            "tags": []
          }
        },
        {
          "output_type": "stream",
          "text": [
            "original image  5  predicted  8\n"
          ],
          "name": "stdout"
        },
        {
          "output_type": "display_data",
          "data": {
            "image/png": "[encoded data removed]",
            "text/plain": [
              "<Figure size 432x288 with 1 Axes>"
            ]
          },
          "metadata": {
            "tags": []
          }
        },
        {
          "output_type": "stream",
          "text": [
            "original image  5  predicted  8\n"
          ],
          "name": "stdout"
        },
        {
          "output_type": "display_data",
          "data": {
            "image/png": "[encoded data removed]",
            "text/plain": [
              "<Figure size 432x288 with 1 Axes>"
            ]
          },
          "metadata": {
            "tags": []
          }
        },
        {
          "output_type": "stream",
          "text": [
            "original image  5  predicted  8\n"
          ],
          "name": "stdout"
        },
        {
          "output_type": "display_data",
          "data": {
            "image/png": "[encoded data removed]",
            "text/plain": [
              "<Figure size 432x288 with 1 Axes>"
            ]
          },
          "metadata": {
            "tags": []
          }
        },
        {
          "output_type": "stream",
          "text": [
            "original image  2  predicted  8\n"
          ],
          "name": "stdout"
        },
        {
          "output_type": "display_data",
          "data": {
            "image/png": "[encoded data removed]",
            "text/plain": [
              "<Figure size 432x288 with 1 Axes>"
            ]
          },
          "metadata": {
            "tags": []
          }
        },
        {
          "output_type": "stream",
          "text": [
            "original image  5  predicted  9\n"
          ],
          "name": "stdout"
        },
        {
          "output_type": "display_data",
          "data": {
            "image/png": "[encoded data removed]",
            "text/plain": [
              "<Figure size 432x288 with 1 Axes>"
            ]
          },
          "metadata": {
            "tags": []
          }
        },
        {
          "output_type": "stream",
          "text": [
            "original image  5  predicted  8\n"
          ],
          "name": "stdout"
        },
        {
          "output_type": "display_data",
          "data": {
            "image/png": "[encoded data removed]",
            "text/plain": [
              "<Figure size 432x288 with 1 Axes>"
            ]
          },
          "metadata": {
            "tags": []
          }
        },
        {
          "output_type": "stream",
          "text": [
            "original image  5  predicted  8\n"
          ],
          "name": "stdout"
        },
        {
          "output_type": "display_data",
          "data": {
            "image/png": "[encoded data removed]",
            "text/plain": [
              "<Figure size 432x288 with 1 Axes>"
            ]
          },
          "metadata": {
            "tags": []
          }
        },
        {
          "output_type": "stream",
          "text": [
            "original image  3  predicted  0\n"
          ],
          "name": "stdout"
        },
        {
          "output_type": "display_data",
          "data": {
            "image/png": "[encoded data removed]",
            "text/plain": [
              "<Figure size 432x288 with 1 Axes>"
            ]
          },
          "metadata": {
            "tags": []
          }
        },
        {
          "output_type": "stream",
          "text": [
            "original image  5  predicted  8\n"
          ],
          "name": "stdout"
        },
        {
          "output_type": "display_data",
          "data": {
            "image/png": "[encoded data removed]",
            "text/plain": [
              "<Figure size 432x288 with 1 Axes>"
            ]
          },
          "metadata": {
            "tags": []
          }
        },
        {
          "output_type": "stream",
          "text": [
            "original image  5  predicted  8\n"
          ],
          "name": "stdout"
        },
        {
          "output_type": "display_data",
          "data": {
            "image/png": "[encoded data removed]",
            "text/plain": [
              "<Figure size 432x288 with 1 Axes>"
            ]
          },
          "metadata": {
            "tags": []
          }
        },
        {
          "output_type": "stream",
          "text": [
            "original image  5  predicted  4\n"
          ],
          "name": "stdout"
        },
        {
          "output_type": "display_data",
          "data": {
            "image/png": "[encoded data removed]",
            "text/plain": [
              "<Figure size 432x288 with 1 Axes>"
            ]
          },
          "metadata": {
            "tags": []
          }
        },
        {
          "output_type": "stream",
          "text": [
            "original image  7  predicted  1\n"
          ],
          "name": "stdout"
        },
        {
          "output_type": "display_data",
          "data": {
            "image/png": "[encoded data removed]",
            "text/plain": [
              "<Figure size 432x288 with 1 Axes>"
            ]
          },
          "metadata": {
            "tags": []
          }
        }
      ]
    },
    {
      "cell_type": "code",
      "metadata": {
        "id": "ncwyij_UQrup",
        "colab_type": "code",
        "colab": {
          "base_uri": "https://localhost:8080/",
          "height": 34
        },
        "outputId": "80c2338a-d606-4d6c-f4b7-308db152b8e4"
      },
      "source": [
        "X_test[mis_class[1]].shape"
      ],
      "execution_count": 40,
      "outputs": [
        {
          "output_type": "execute_result",
          "data": {
            "text/plain": [
              "(28, 28, 1)"
            ]
          },
          "metadata": {
            "tags": []
          },
          "execution_count": 40
        }
      ]
    },
    {
      "cell_type": "code",
      "metadata": {
        "id": "t5Hysf01ceTf",
        "colab_type": "code",
        "colab": {}
      },
      "source": [
        ""
      ],
      "execution_count": 0,
      "outputs": []
    }
  ]
}